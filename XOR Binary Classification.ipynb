{
 "cells": [
  {
   "cell_type": "code",
   "execution_count": 1,
   "id": "therapeutic-relation",
   "metadata": {
    "scrolled": true
   },
   "outputs": [],
   "source": [
    "using PyPlot\n",
    "using Flux\n",
    "using Flux: binarycrossentropy, gradient"
   ]
  },
  {
   "cell_type": "code",
   "execution_count": 2,
   "id": "royal-bankruptcy",
   "metadata": {},
   "outputs": [],
   "source": [
    "K = 100\n",
    "# offset of classes\n",
    "q = 0.6\n",
    "# define 4 clusters of input data\n",
    "A = adjoint([rand(1, K).-q; rand(1, K).+q])\n",
    "B = adjoint([rand(1, K).+q; rand(1, K).+q])\n",
    "C = adjoint([rand(1, K).+q; rand(1, K).-q])\n",
    "D = adjoint([rand(1, K).-q; rand(1, K).-q]);"
   ]
  },
  {
   "cell_type": "code",
   "execution_count": 3,
   "id": "particular-recorder",
   "metadata": {},
   "outputs": [],
   "source": [
    "AC = [A; C]\n",
    "BD = [B; D];"
   ]
  },
  {
   "cell_type": "code",
   "execution_count": 4,
   "id": "sound-breakdown",
   "metadata": {},
   "outputs": [
    {
     "data": {
      "image/png": "[encoded data removed]",
      "text/plain": [
       "Figure(PyObject <Figure size 640x480 with 1 Axes>)"
      ]
     },
     "metadata": {},
     "output_type": "display_data"
    },
    {
     "data": {
      "text/plain": [
       "PyObject <matplotlib.collections.PathCollection object at 0x000000007D5EA580>"
      ]
     },
     "execution_count": 4,
     "metadata": {},
     "output_type": "execute_result"
    }
   ],
   "source": [
    "scatter(AC[:, 1], AC[:, 2], color=\"red\")\n",
    "scatter(BD[:, 1], BD[:, 2], color=\"blue\")"
   ]
  },
  {
   "cell_type": "code",
   "execution_count": 5,
   "id": "lucky-estonia",
   "metadata": {},
   "outputs": [],
   "source": [
    "X = [AC; BD]\n",
    "y = [ones(200); zeros(200)];"
   ]
  },
  {
   "cell_type": "code",
   "execution_count": 22,
   "id": "faced-values",
   "metadata": {},
   "outputs": [
    {
     "data": {
      "text/plain": [
       "Chain(Dense(2, 5, relu), Dense(5, 1, σ))"
      ]
     },
     "execution_count": 22,
     "metadata": {},
     "output_type": "execute_result"
    }
   ],
   "source": [
    "model = Chain(Dense(2, 5, relu), Dense(5, 1, sigmoid))"
   ]
  },
  {
   "cell_type": "code",
   "execution_count": 23,
   "id": "leading-green",
   "metadata": {},
   "outputs": [
    {
     "data": {
      "text/plain": [
       "ADAM(0.001, (0.9, 0.999), IdDict{Any, Any}())"
      ]
     },
     "execution_count": 23,
     "metadata": {},
     "output_type": "execute_result"
    }
   ],
   "source": [
    "ps = Flux.params(model)\n",
    "opt = ADAM()"
   ]
  },
  {
   "cell_type": "code",
   "execution_count": 24,
   "id": "allied-celebration",
   "metadata": {},
   "outputs": [
    {
     "data": {
      "text/plain": [
       "apply_threshold (generic function with 2 methods)"
      ]
     },
     "execution_count": 24,
     "metadata": {},
     "output_type": "execute_result"
    }
   ],
   "source": [
    "function apply_threshold(proba, threshold=0.5)\n",
    "    if proba[1] >= threshold\n",
    "        return 1.0\n",
    "    else\n",
    "        return 0.0\n",
    "    end\n",
    "end"
   ]
  },
  {
   "cell_type": "code",
   "execution_count": 25,
   "id": "republican-change",
   "metadata": {},
   "outputs": [
    {
     "data": {
      "text/plain": [
       "loss_and_accuracy (generic function with 1 method)"
      ]
     },
     "execution_count": 25,
     "metadata": {},
     "output_type": "execute_result"
    }
   ],
   "source": [
    "function loss_and_accuracy(model, X, y)\n",
    "    accuracy = 0\n",
    "    loss = 0.0f0\n",
    "    num = 0\n",
    "    n_rows = size(y)[1]\n",
    "    for i in range(1, n_rows)\n",
    "        ŷ = model(X[i, :])[1]\n",
    "        loss += binarycrossentropy(ŷ, y[i])\n",
    "        accuracy += sum(apply_threshold(ŷ) .== y[i])\n",
    "    end\n",
    "    return loss/n_rows, accuracy/n_rows\n",
    "end"
   ]
  },
  {
   "cell_type": "code",
   "execution_count": 27,
   "id": "liquid-solution",
   "metadata": {},
   "outputs": [
    {
     "name": "stdout",
     "output_type": "stream",
     "text": [
      "Epoch: 1\n",
      "  train_loss = 0.6500738858431577 (tracked), train_accuracy = 0.7025\n",
      "\n",
      "Epoch: 2\n",
      "  train_loss = 0.6087587735056877 (tracked), train_accuracy = 0.6925\n",
      "\n",
      "Epoch: 3\n",
      "  train_loss = 0.5762663331255317 (tracked), train_accuracy = 0.6975\n",
      "\n",
      "Epoch: 4\n",
      "  train_loss = 0.547138978652656 (tracked), train_accuracy = 0.705\n",
      "\n",
      "Epoch: 5\n",
      "  train_loss = 0.520118965189904 (tracked), train_accuracy = 0.7425\n",
      "\n",
      "Epoch: 6\n",
      "  train_loss = 0.4946941682975739 (tracked), train_accuracy = 0.7525\n",
      "\n",
      "Epoch: 7\n",
      "  train_loss = 0.4693150703795254 (tracked), train_accuracy = 0.77\n",
      "\n",
      "Epoch: 8\n",
      "  train_loss = 0.44431475580204277 (tracked), train_accuracy = 0.79\n",
      "\n",
      "Epoch: 9\n",
      "  train_loss = 0.42145223579369484 (tracked), train_accuracy = 0.8175\n",
      "\n",
      "Epoch: 10\n",
      "  train_loss = 0.39947950387140735 (tracked), train_accuracy = 0.8275\n",
      "\n",
      "Epoch: 11\n",
      "  train_loss = 0.3791083663434256 (tracked), train_accuracy = 0.84\n",
      "\n",
      "Epoch: 12\n",
      "  train_loss = 0.3597383732383605 (tracked), train_accuracy = 0.855\n",
      "\n",
      "Epoch: 13\n",
      "  train_loss = 0.3419197371264454 (tracked), train_accuracy = 0.87\n",
      "\n",
      "Epoch: 14\n",
      "  train_loss = 0.3253147204656852 (tracked), train_accuracy = 0.89\n",
      "\n",
      "Epoch: 15\n",
      "  train_loss = 0.3097591769174323 (tracked), train_accuracy = 0.8975\n",
      "\n",
      "Epoch: 16\n",
      "  train_loss = 0.2950683681611554 (tracked), train_accuracy = 0.905\n",
      "\n",
      "Epoch: 17\n",
      "  train_loss = 0.281509865327389 (tracked), train_accuracy = 0.925\n",
      "\n",
      "Epoch: 18\n",
      "  train_loss = 0.2680586053317529 (tracked), train_accuracy = 0.9325\n",
      "\n",
      "Epoch: 19\n",
      "  train_loss = 0.256361831458853 (tracked), train_accuracy = 0.945\n",
      "\n",
      "Epoch: 20\n",
      "  train_loss = 0.24505238163474133 (tracked), train_accuracy = 0.945\n",
      "\n",
      "Epoch: 21\n",
      "  train_loss = 0.2344293457247113 (tracked), train_accuracy = 0.9475\n",
      "\n",
      "Epoch: 22\n",
      "  train_loss = 0.22450933411681034 (tracked), train_accuracy = 0.9525\n",
      "\n",
      "Epoch: 23\n",
      "  train_loss = 0.21477041701757116 (tracked), train_accuracy = 0.955\n",
      "\n",
      "Epoch: 24\n",
      "  train_loss = 0.20581427826175058 (tracked), train_accuracy = 0.9575\n",
      "\n",
      "Epoch: 25\n",
      "  train_loss = 0.19735648741308978 (tracked), train_accuracy = 0.965\n",
      "\n",
      "Epoch: 26\n",
      "  train_loss = 0.18942607061135278 (tracked), train_accuracy = 0.9675\n",
      "\n",
      "Epoch: 27\n",
      "  train_loss = 0.1820194406528026 (tracked), train_accuracy = 0.97\n",
      "\n",
      "Epoch: 28\n",
      "  train_loss = 0.1749302270696353 (tracked), train_accuracy = 0.97\n",
      "\n",
      "Epoch: 29\n",
      "  train_loss = 0.16820698046783947 (tracked), train_accuracy = 0.97\n",
      "\n",
      "Epoch: 30\n",
      "  train_loss = 0.1619015883737211 (tracked), train_accuracy = 0.97\n",
      "\n",
      "Epoch: 31\n",
      "  train_loss = 0.15587933119561967 (tracked), train_accuracy = 0.97\n",
      "\n",
      "Epoch: 32\n",
      "  train_loss = 0.15047914267518536 (tracked), train_accuracy = 0.9725\n",
      "\n",
      "Epoch: 33\n",
      "  train_loss = 0.14521637508355525 (tracked), train_accuracy = 0.975\n",
      "\n",
      "Epoch: 34\n",
      "  train_loss = 0.14015458299430064 (tracked), train_accuracy = 0.98\n",
      "\n",
      "Epoch: 35\n",
      "  train_loss = 0.13532994344244798 (tracked), train_accuracy = 0.98\n",
      "\n",
      "Epoch: 36\n",
      "  train_loss = 0.13075220788397018 (tracked), train_accuracy = 0.98\n",
      "\n",
      "Epoch: 37\n",
      "  train_loss = 0.1264429272965708 (tracked), train_accuracy = 0.98\n",
      "\n",
      "Epoch: 38\n",
      "  train_loss = 0.12233374646280026 (tracked), train_accuracy = 0.9825\n",
      "\n",
      "Epoch: 39\n",
      "  train_loss = 0.11842308430670073 (tracked), train_accuracy = 0.9875\n",
      "\n",
      "Epoch: 40\n",
      "  train_loss = 0.11470063332909376 (tracked), train_accuracy = 0.9925\n",
      "\n"
     ]
    }
   ],
   "source": [
    "for epoch in 1:100\n",
    "    for i in range(1, size(y)[1])\n",
    "        gs = gradient(() -> binarycrossentropy(model(X[i,:])[1], y[i]), ps)\n",
    "        Flux.Optimise.update!(opt, ps, gs)\n",
    "    end\n",
    "    println(\"Epoch: $epoch\")\n",
    "    train_loss, train_acc = loss_and_accuracy(model, X, y)\n",
    "    println(\"  train_loss = $train_loss, train_accuracy = $train_acc\")\n",
    "    println()\n",
    "    \n",
    "    if train_acc .>= 0.99\n",
    "        break\n",
    "    end\n",
    "end"
   ]
  }
 ],
 "metadata": {
  "kernelspec": {
   "display_name": "Julia 1.7.2",
   "language": "julia",
   "name": "julia-1.7"
  },
  "language_info": {
   "file_extension": ".jl",
   "mimetype": "application/julia",
   "name": "julia",
   "version": "1.7.2"
  }
 },
 "nbformat": 4,
 "nbformat_minor": 5
}
